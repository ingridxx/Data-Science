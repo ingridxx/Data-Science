{
 "cells": [
  {
   "cell_type": "markdown",
   "metadata": {
    "_cell_guid": "b1076dfc-b9ad-4769-8c92-a6c4dae69d19",
    "_uuid": "8f2839f25d086af736a60e9eeb907d3b93b6e0e5"
   },
   "source": [
    "> ## Get that Avo Toast.  \n",
    "***It's not like you can afford a home in the Bay anyway.***"
   ]
  },
  {
   "cell_type": "markdown",
   "metadata": {},
   "source": [
    "This is my third attempt at avocado price prediction. My first attempt was using fb prophet, second attempt was using regression, and both methods did not work. Fbprophet only worked for univariate dataset, but I wanted to use the region variable as well. And the regression models could not predict future dates.  \n",
    "It seems like for multivariate time series data, I would need a more complex model like neural networks. Hence I am trying LSTM this time. Let's see if third time will be a charm.  \n",
    "\n",
    "*This is also my first Kaggle/data science project and any criticism/feedback is welcomed :) *\n"
   ]
  },
  {
   "cell_type": "markdown",
   "metadata": {},
   "source": [
    "### Goal\n",
    "Predict the region-specific avocado price based on total volume and historical average price.\n"
   ]
  },
  {
   "cell_type": "code",
   "execution_count": 1,
   "metadata": {
    "_cell_guid": "79c7e3d0-c299-4dcb-8224-4455121ee9b0",
    "_uuid": "d629ff2d2480ee46fbb7e2d37f6b5fab8052498a"
   },
   "outputs": [],
   "source": [
    "import numpy as np \n",
    "import pandas as pd \n",
    "import os\n",
    "import math, time\n",
    "from sklearn.model_selection import train_test_split\n",
    "from sklearn.metrics import accuracy_score\n",
    "from sklearn.metrics import mean_absolute_error\n",
    "from sklearn.preprocessing import StandardScaler\n",
    "from sklearn.preprocessing import OneHotEncoder\n",
    "import seaborn as sns\n",
    "import matplotlib.pyplot as plt"
   ]
  },
  {
   "cell_type": "code",
   "execution_count": 2,
   "metadata": {},
   "outputs": [
    {
     "data": {
      "text/html": [
       "<div>\n",
       "<style scoped>\n",
       "    .dataframe tbody tr th:only-of-type {\n",
       "        vertical-align: middle;\n",
       "    }\n",
       "\n",
       "    .dataframe tbody tr th {\n",
       "        vertical-align: top;\n",
       "    }\n",
       "\n",
       "    .dataframe thead th {\n",
       "        text-align: right;\n",
       "    }\n",
       "</style>\n",
       "<table border=\"1\" class=\"dataframe\">\n",
       "  <thead>\n",
       "    <tr style=\"text-align: right;\">\n",
       "      <th></th>\n",
       "      <th>Unnamed: 0</th>\n",
       "      <th>Date</th>\n",
       "      <th>AveragePrice</th>\n",
       "      <th>Total Volume</th>\n",
       "      <th>4046</th>\n",
       "      <th>4225</th>\n",
       "      <th>4770</th>\n",
       "      <th>Total Bags</th>\n",
       "      <th>Small Bags</th>\n",
       "      <th>Large Bags</th>\n",
       "      <th>XLarge Bags</th>\n",
       "      <th>type</th>\n",
       "      <th>year</th>\n",
       "      <th>region</th>\n",
       "    </tr>\n",
       "  </thead>\n",
       "  <tbody>\n",
       "    <tr>\n",
       "      <th>0</th>\n",
       "      <td>0</td>\n",
       "      <td>2015-12-27</td>\n",
       "      <td>1.33</td>\n",
       "      <td>64236.62</td>\n",
       "      <td>1036.74</td>\n",
       "      <td>54454.85</td>\n",
       "      <td>48.16</td>\n",
       "      <td>8696.87</td>\n",
       "      <td>8603.62</td>\n",
       "      <td>93.25</td>\n",
       "      <td>0.0</td>\n",
       "      <td>conventional</td>\n",
       "      <td>2015</td>\n",
       "      <td>Albany</td>\n",
       "    </tr>\n",
       "    <tr>\n",
       "      <th>1</th>\n",
       "      <td>1</td>\n",
       "      <td>2015-12-20</td>\n",
       "      <td>1.35</td>\n",
       "      <td>54876.98</td>\n",
       "      <td>674.28</td>\n",
       "      <td>44638.81</td>\n",
       "      <td>58.33</td>\n",
       "      <td>9505.56</td>\n",
       "      <td>9408.07</td>\n",
       "      <td>97.49</td>\n",
       "      <td>0.0</td>\n",
       "      <td>conventional</td>\n",
       "      <td>2015</td>\n",
       "      <td>Albany</td>\n",
       "    </tr>\n",
       "    <tr>\n",
       "      <th>2</th>\n",
       "      <td>2</td>\n",
       "      <td>2015-12-13</td>\n",
       "      <td>0.93</td>\n",
       "      <td>118220.22</td>\n",
       "      <td>794.70</td>\n",
       "      <td>109149.67</td>\n",
       "      <td>130.50</td>\n",
       "      <td>8145.35</td>\n",
       "      <td>8042.21</td>\n",
       "      <td>103.14</td>\n",
       "      <td>0.0</td>\n",
       "      <td>conventional</td>\n",
       "      <td>2015</td>\n",
       "      <td>Albany</td>\n",
       "    </tr>\n",
       "    <tr>\n",
       "      <th>3</th>\n",
       "      <td>3</td>\n",
       "      <td>2015-12-06</td>\n",
       "      <td>1.08</td>\n",
       "      <td>78992.15</td>\n",
       "      <td>1132.00</td>\n",
       "      <td>71976.41</td>\n",
       "      <td>72.58</td>\n",
       "      <td>5811.16</td>\n",
       "      <td>5677.40</td>\n",
       "      <td>133.76</td>\n",
       "      <td>0.0</td>\n",
       "      <td>conventional</td>\n",
       "      <td>2015</td>\n",
       "      <td>Albany</td>\n",
       "    </tr>\n",
       "    <tr>\n",
       "      <th>4</th>\n",
       "      <td>4</td>\n",
       "      <td>2015-11-29</td>\n",
       "      <td>1.28</td>\n",
       "      <td>51039.60</td>\n",
       "      <td>941.48</td>\n",
       "      <td>43838.39</td>\n",
       "      <td>75.78</td>\n",
       "      <td>6183.95</td>\n",
       "      <td>5986.26</td>\n",
       "      <td>197.69</td>\n",
       "      <td>0.0</td>\n",
       "      <td>conventional</td>\n",
       "      <td>2015</td>\n",
       "      <td>Albany</td>\n",
       "    </tr>\n",
       "  </tbody>\n",
       "</table>\n",
       "</div>"
      ],
      "text/plain": [
       "   Unnamed: 0        Date  AveragePrice  Total Volume     4046       4225  \\\n",
       "0           0  2015-12-27          1.33      64236.62  1036.74   54454.85   \n",
       "1           1  2015-12-20          1.35      54876.98   674.28   44638.81   \n",
       "2           2  2015-12-13          0.93     118220.22   794.70  109149.67   \n",
       "3           3  2015-12-06          1.08      78992.15  1132.00   71976.41   \n",
       "4           4  2015-11-29          1.28      51039.60   941.48   43838.39   \n",
       "\n",
       "     4770  Total Bags  Small Bags  Large Bags  XLarge Bags          type  \\\n",
       "0   48.16     8696.87     8603.62       93.25          0.0  conventional   \n",
       "1   58.33     9505.56     9408.07       97.49          0.0  conventional   \n",
       "2  130.50     8145.35     8042.21      103.14          0.0  conventional   \n",
       "3   72.58     5811.16     5677.40      133.76          0.0  conventional   \n",
       "4   75.78     6183.95     5986.26      197.69          0.0  conventional   \n",
       "\n",
       "   year  region  \n",
       "0  2015  Albany  \n",
       "1  2015  Albany  \n",
       "2  2015  Albany  \n",
       "3  2015  Albany  \n",
       "4  2015  Albany  "
      ]
     },
     "execution_count": 2,
     "metadata": {},
     "output_type": "execute_result"
    }
   ],
   "source": [
    "df = pd.read_csv('../input/avocado.csv')\n",
    "df.head()"
   ]
  },
  {
   "cell_type": "code",
   "execution_count": 3,
   "metadata": {},
   "outputs": [],
   "source": [
    "df = df.drop(['Unnamed: 0'], 1)"
   ]
  },
  {
   "cell_type": "code",
   "execution_count": 4,
   "metadata": {},
   "outputs": [],
   "source": [
    "scaler = StandardScaler()\n",
    "df.loc[:,'Total Volume':'XLarge Bags']= scaler.fit_transform(df.loc[:,'Total Volume':'XLarge Bags'])"
   ]
  },
  {
   "cell_type": "markdown",
   "metadata": {},
   "source": [
    "Normalizing the volume columns."
   ]
  },
  {
   "cell_type": "code",
   "execution_count": 5,
   "metadata": {},
   "outputs": [],
   "source": [
    "df['type']=df['type'].replace('conventional', 0)\n",
    "df['type']=df['type'].replace('organic', 1)"
   ]
  },
  {
   "cell_type": "markdown",
   "metadata": {},
   "source": [
    "Label encoding and one-hot encoding the categorical variables."
   ]
  },
  {
   "cell_type": "code",
   "execution_count": 6,
   "metadata": {},
   "outputs": [
    {
     "data": {
      "text/html": [
       "<div>\n",
       "<style scoped>\n",
       "    .dataframe tbody tr th:only-of-type {\n",
       "        vertical-align: middle;\n",
       "    }\n",
       "\n",
       "    .dataframe tbody tr th {\n",
       "        vertical-align: top;\n",
       "    }\n",
       "\n",
       "    .dataframe thead th {\n",
       "        text-align: right;\n",
       "    }\n",
       "</style>\n",
       "<table border=\"1\" class=\"dataframe\">\n",
       "  <thead>\n",
       "    <tr style=\"text-align: right;\">\n",
       "      <th></th>\n",
       "      <th>Date</th>\n",
       "      <th>Total Volume</th>\n",
       "      <th>4046</th>\n",
       "      <th>4225</th>\n",
       "      <th>4770</th>\n",
       "      <th>Total Bags</th>\n",
       "      <th>Small Bags</th>\n",
       "      <th>Large Bags</th>\n",
       "      <th>XLarge Bags</th>\n",
       "      <th>type</th>\n",
       "      <th>...</th>\n",
       "      <th>45</th>\n",
       "      <th>46</th>\n",
       "      <th>47</th>\n",
       "      <th>48</th>\n",
       "      <th>49</th>\n",
       "      <th>50</th>\n",
       "      <th>51</th>\n",
       "      <th>52</th>\n",
       "      <th>53</th>\n",
       "      <th>Price</th>\n",
       "    </tr>\n",
       "  </thead>\n",
       "  <tbody>\n",
       "    <tr>\n",
       "      <th>0</th>\n",
       "      <td>2015-12-27</td>\n",
       "      <td>-0.227716</td>\n",
       "      <td>-0.230816</td>\n",
       "      <td>-0.199902</td>\n",
       "      <td>-0.212091</td>\n",
       "      <td>-0.234170</td>\n",
       "      <td>-0.232647</td>\n",
       "      <td>-0.222352</td>\n",
       "      <td>-0.17558</td>\n",
       "      <td>0</td>\n",
       "      <td>...</td>\n",
       "      <td>0.0</td>\n",
       "      <td>0.0</td>\n",
       "      <td>0.0</td>\n",
       "      <td>0.0</td>\n",
       "      <td>0.0</td>\n",
       "      <td>0.0</td>\n",
       "      <td>0.0</td>\n",
       "      <td>0.0</td>\n",
       "      <td>0.0</td>\n",
       "      <td>1.33</td>\n",
       "    </tr>\n",
       "    <tr>\n",
       "      <th>1</th>\n",
       "      <td>2015-12-20</td>\n",
       "      <td>-0.230427</td>\n",
       "      <td>-0.231103</td>\n",
       "      <td>-0.208054</td>\n",
       "      <td>-0.211997</td>\n",
       "      <td>-0.233350</td>\n",
       "      <td>-0.231568</td>\n",
       "      <td>-0.222335</td>\n",
       "      <td>-0.17558</td>\n",
       "      <td>0</td>\n",
       "      <td>...</td>\n",
       "      <td>0.0</td>\n",
       "      <td>0.0</td>\n",
       "      <td>0.0</td>\n",
       "      <td>0.0</td>\n",
       "      <td>0.0</td>\n",
       "      <td>0.0</td>\n",
       "      <td>0.0</td>\n",
       "      <td>0.0</td>\n",
       "      <td>0.0</td>\n",
       "      <td>1.35</td>\n",
       "    </tr>\n",
       "    <tr>\n",
       "      <th>2</th>\n",
       "      <td>2015-12-13</td>\n",
       "      <td>-0.212085</td>\n",
       "      <td>-0.231007</td>\n",
       "      <td>-0.154478</td>\n",
       "      <td>-0.211325</td>\n",
       "      <td>-0.234730</td>\n",
       "      <td>-0.233399</td>\n",
       "      <td>-0.222311</td>\n",
       "      <td>-0.17558</td>\n",
       "      <td>0</td>\n",
       "      <td>...</td>\n",
       "      <td>0.0</td>\n",
       "      <td>0.0</td>\n",
       "      <td>0.0</td>\n",
       "      <td>0.0</td>\n",
       "      <td>0.0</td>\n",
       "      <td>0.0</td>\n",
       "      <td>0.0</td>\n",
       "      <td>0.0</td>\n",
       "      <td>0.0</td>\n",
       "      <td>0.93</td>\n",
       "    </tr>\n",
       "    <tr>\n",
       "      <th>3</th>\n",
       "      <td>2015-12-06</td>\n",
       "      <td>-0.223444</td>\n",
       "      <td>-0.230741</td>\n",
       "      <td>-0.185350</td>\n",
       "      <td>-0.211864</td>\n",
       "      <td>-0.237096</td>\n",
       "      <td>-0.236568</td>\n",
       "      <td>-0.222186</td>\n",
       "      <td>-0.17558</td>\n",
       "      <td>0</td>\n",
       "      <td>...</td>\n",
       "      <td>0.0</td>\n",
       "      <td>0.0</td>\n",
       "      <td>0.0</td>\n",
       "      <td>0.0</td>\n",
       "      <td>0.0</td>\n",
       "      <td>0.0</td>\n",
       "      <td>0.0</td>\n",
       "      <td>0.0</td>\n",
       "      <td>0.0</td>\n",
       "      <td>1.08</td>\n",
       "    </tr>\n",
       "    <tr>\n",
       "      <th>4</th>\n",
       "      <td>2015-11-29</td>\n",
       "      <td>-0.231538</td>\n",
       "      <td>-0.230891</td>\n",
       "      <td>-0.208719</td>\n",
       "      <td>-0.211834</td>\n",
       "      <td>-0.236718</td>\n",
       "      <td>-0.236154</td>\n",
       "      <td>-0.221924</td>\n",
       "      <td>-0.17558</td>\n",
       "      <td>0</td>\n",
       "      <td>...</td>\n",
       "      <td>0.0</td>\n",
       "      <td>0.0</td>\n",
       "      <td>0.0</td>\n",
       "      <td>0.0</td>\n",
       "      <td>0.0</td>\n",
       "      <td>0.0</td>\n",
       "      <td>0.0</td>\n",
       "      <td>0.0</td>\n",
       "      <td>0.0</td>\n",
       "      <td>1.28</td>\n",
       "    </tr>\n",
       "  </tbody>\n",
       "</table>\n",
       "<p>5 rows × 65 columns</p>\n",
       "</div>"
      ],
      "text/plain": [
       "         Date  Total Volume      4046      4225      4770  Total Bags  \\\n",
       "0  2015-12-27     -0.227716 -0.230816 -0.199902 -0.212091   -0.234170   \n",
       "1  2015-12-20     -0.230427 -0.231103 -0.208054 -0.211997   -0.233350   \n",
       "2  2015-12-13     -0.212085 -0.231007 -0.154478 -0.211325   -0.234730   \n",
       "3  2015-12-06     -0.223444 -0.230741 -0.185350 -0.211864   -0.237096   \n",
       "4  2015-11-29     -0.231538 -0.230891 -0.208719 -0.211834   -0.236718   \n",
       "\n",
       "   Small Bags  Large Bags  XLarge Bags  type  ...     45   46   47   48   49  \\\n",
       "0   -0.232647   -0.222352     -0.17558     0  ...    0.0  0.0  0.0  0.0  0.0   \n",
       "1   -0.231568   -0.222335     -0.17558     0  ...    0.0  0.0  0.0  0.0  0.0   \n",
       "2   -0.233399   -0.222311     -0.17558     0  ...    0.0  0.0  0.0  0.0  0.0   \n",
       "3   -0.236568   -0.222186     -0.17558     0  ...    0.0  0.0  0.0  0.0  0.0   \n",
       "4   -0.236154   -0.221924     -0.17558     0  ...    0.0  0.0  0.0  0.0  0.0   \n",
       "\n",
       "    50   51   52   53  Price  \n",
       "0  0.0  0.0  0.0  0.0   1.33  \n",
       "1  0.0  0.0  0.0  0.0   1.35  \n",
       "2  0.0  0.0  0.0  0.0   0.93  \n",
       "3  0.0  0.0  0.0  0.0   1.08  \n",
       "4  0.0  0.0  0.0  0.0   1.28  \n",
       "\n",
       "[5 rows x 65 columns]"
      ]
     },
     "execution_count": 6,
     "metadata": {},
     "output_type": "execute_result"
    }
   ],
   "source": [
    "region_ohe = OneHotEncoder(categories = \"auto\", handle_unknown = \"ignore\")\n",
    "X_encoded = region_ohe.fit_transform(df['region'].values.reshape(-1,1)).toarray()\n",
    "X_encoded = pd.DataFrame(X_encoded, columns = [str(int(i)) for i in range(X_encoded.shape[1])])\n",
    "X = df.drop(['year', 'region'], 1)\n",
    "dff = pd.concat([X, X_encoded], axis = 1)\n",
    "#moving AveragePrice to the last column\n",
    "dff['Price']=dff.AveragePrice\n",
    "dff.drop(['AveragePrice'], 1, inplace=True)\n",
    "dff.head()"
   ]
  },
  {
   "cell_type": "code",
   "execution_count": 7,
   "metadata": {},
   "outputs": [
    {
     "data": {
      "text/html": [
       "<div>\n",
       "<style scoped>\n",
       "    .dataframe tbody tr th:only-of-type {\n",
       "        vertical-align: middle;\n",
       "    }\n",
       "\n",
       "    .dataframe tbody tr th {\n",
       "        vertical-align: top;\n",
       "    }\n",
       "\n",
       "    .dataframe thead th {\n",
       "        text-align: right;\n",
       "    }\n",
       "</style>\n",
       "<table border=\"1\" class=\"dataframe\">\n",
       "  <thead>\n",
       "    <tr style=\"text-align: right;\">\n",
       "      <th></th>\n",
       "      <th>Total Volume</th>\n",
       "      <th>4046</th>\n",
       "      <th>4225</th>\n",
       "      <th>4770</th>\n",
       "      <th>Total Bags</th>\n",
       "      <th>Small Bags</th>\n",
       "      <th>Large Bags</th>\n",
       "      <th>XLarge Bags</th>\n",
       "      <th>type</th>\n",
       "      <th>0</th>\n",
       "      <th>...</th>\n",
       "      <th>45</th>\n",
       "      <th>46</th>\n",
       "      <th>47</th>\n",
       "      <th>48</th>\n",
       "      <th>49</th>\n",
       "      <th>50</th>\n",
       "      <th>51</th>\n",
       "      <th>52</th>\n",
       "      <th>53</th>\n",
       "      <th>Price</th>\n",
       "    </tr>\n",
       "    <tr>\n",
       "      <th>Date</th>\n",
       "      <th></th>\n",
       "      <th></th>\n",
       "      <th></th>\n",
       "      <th></th>\n",
       "      <th></th>\n",
       "      <th></th>\n",
       "      <th></th>\n",
       "      <th></th>\n",
       "      <th></th>\n",
       "      <th></th>\n",
       "      <th></th>\n",
       "      <th></th>\n",
       "      <th></th>\n",
       "      <th></th>\n",
       "      <th></th>\n",
       "      <th></th>\n",
       "      <th></th>\n",
       "      <th></th>\n",
       "      <th></th>\n",
       "      <th></th>\n",
       "      <th></th>\n",
       "    </tr>\n",
       "  </thead>\n",
       "  <tbody>\n",
       "    <tr>\n",
       "      <th>2018-02-04</th>\n",
       "      <td>-0.241373</td>\n",
       "      <td>-0.230017</td>\n",
       "      <td>-0.243857</td>\n",
       "      <td>-0.212540</td>\n",
       "      <td>-0.229301</td>\n",
       "      <td>-0.226665</td>\n",
       "      <td>-0.220964</td>\n",
       "      <td>-0.17558</td>\n",
       "      <td>1</td>\n",
       "      <td>0.0</td>\n",
       "      <td>...</td>\n",
       "      <td>0.0</td>\n",
       "      <td>0.0</td>\n",
       "      <td>0.0</td>\n",
       "      <td>0.0</td>\n",
       "      <td>0.0</td>\n",
       "      <td>0.0</td>\n",
       "      <td>0.0</td>\n",
       "      <td>0.0</td>\n",
       "      <td>1.0</td>\n",
       "      <td>1.63</td>\n",
       "    </tr>\n",
       "    <tr>\n",
       "      <th>2018-01-28</th>\n",
       "      <td>-0.242296</td>\n",
       "      <td>-0.230693</td>\n",
       "      <td>-0.242277</td>\n",
       "      <td>-0.212540</td>\n",
       "      <td>-0.233594</td>\n",
       "      <td>-0.232196</td>\n",
       "      <td>-0.221403</td>\n",
       "      <td>-0.17558</td>\n",
       "      <td>1</td>\n",
       "      <td>0.0</td>\n",
       "      <td>...</td>\n",
       "      <td>0.0</td>\n",
       "      <td>0.0</td>\n",
       "      <td>0.0</td>\n",
       "      <td>0.0</td>\n",
       "      <td>0.0</td>\n",
       "      <td>0.0</td>\n",
       "      <td>0.0</td>\n",
       "      <td>0.0</td>\n",
       "      <td>1.0</td>\n",
       "      <td>1.71</td>\n",
       "    </tr>\n",
       "    <tr>\n",
       "      <th>2018-01-21</th>\n",
       "      <td>-0.242331</td>\n",
       "      <td>-0.230693</td>\n",
       "      <td>-0.243090</td>\n",
       "      <td>-0.205766</td>\n",
       "      <td>-0.233463</td>\n",
       "      <td>-0.231644</td>\n",
       "      <td>-0.222561</td>\n",
       "      <td>-0.17558</td>\n",
       "      <td>1</td>\n",
       "      <td>0.0</td>\n",
       "      <td>...</td>\n",
       "      <td>0.0</td>\n",
       "      <td>0.0</td>\n",
       "      <td>0.0</td>\n",
       "      <td>0.0</td>\n",
       "      <td>0.0</td>\n",
       "      <td>0.0</td>\n",
       "      <td>0.0</td>\n",
       "      <td>0.0</td>\n",
       "      <td>1.0</td>\n",
       "      <td>1.87</td>\n",
       "    </tr>\n",
       "    <tr>\n",
       "      <th>2018-01-14</th>\n",
       "      <td>-0.241625</td>\n",
       "      <td>-0.230428</td>\n",
       "      <td>-0.242651</td>\n",
       "      <td>-0.205774</td>\n",
       "      <td>-0.231866</td>\n",
       "      <td>-0.229543</td>\n",
       "      <td>-0.222529</td>\n",
       "      <td>-0.17558</td>\n",
       "      <td>1</td>\n",
       "      <td>0.0</td>\n",
       "      <td>...</td>\n",
       "      <td>0.0</td>\n",
       "      <td>0.0</td>\n",
       "      <td>0.0</td>\n",
       "      <td>0.0</td>\n",
       "      <td>0.0</td>\n",
       "      <td>0.0</td>\n",
       "      <td>0.0</td>\n",
       "      <td>0.0</td>\n",
       "      <td>1.0</td>\n",
       "      <td>1.93</td>\n",
       "    </tr>\n",
       "    <tr>\n",
       "      <th>2018-01-07</th>\n",
       "      <td>-0.241253</td>\n",
       "      <td>-0.229347</td>\n",
       "      <td>-0.243170</td>\n",
       "      <td>-0.210450</td>\n",
       "      <td>-0.230807</td>\n",
       "      <td>-0.228111</td>\n",
       "      <td>-0.222628</td>\n",
       "      <td>-0.17558</td>\n",
       "      <td>1</td>\n",
       "      <td>0.0</td>\n",
       "      <td>...</td>\n",
       "      <td>0.0</td>\n",
       "      <td>0.0</td>\n",
       "      <td>0.0</td>\n",
       "      <td>0.0</td>\n",
       "      <td>0.0</td>\n",
       "      <td>0.0</td>\n",
       "      <td>0.0</td>\n",
       "      <td>0.0</td>\n",
       "      <td>1.0</td>\n",
       "      <td>1.62</td>\n",
       "    </tr>\n",
       "  </tbody>\n",
       "</table>\n",
       "<p>5 rows × 64 columns</p>\n",
       "</div>"
      ],
      "text/plain": [
       "            Total Volume      4046      4225      4770  Total Bags  \\\n",
       "Date                                                                 \n",
       "2018-02-04     -0.241373 -0.230017 -0.243857 -0.212540   -0.229301   \n",
       "2018-01-28     -0.242296 -0.230693 -0.242277 -0.212540   -0.233594   \n",
       "2018-01-21     -0.242331 -0.230693 -0.243090 -0.205766   -0.233463   \n",
       "2018-01-14     -0.241625 -0.230428 -0.242651 -0.205774   -0.231866   \n",
       "2018-01-07     -0.241253 -0.229347 -0.243170 -0.210450   -0.230807   \n",
       "\n",
       "            Small Bags  Large Bags  XLarge Bags  type    0  ...     45   46  \\\n",
       "Date                                                        ...               \n",
       "2018-02-04   -0.226665   -0.220964     -0.17558     1  0.0  ...    0.0  0.0   \n",
       "2018-01-28   -0.232196   -0.221403     -0.17558     1  0.0  ...    0.0  0.0   \n",
       "2018-01-21   -0.231644   -0.222561     -0.17558     1  0.0  ...    0.0  0.0   \n",
       "2018-01-14   -0.229543   -0.222529     -0.17558     1  0.0  ...    0.0  0.0   \n",
       "2018-01-07   -0.228111   -0.222628     -0.17558     1  0.0  ...    0.0  0.0   \n",
       "\n",
       "             47   48   49   50   51   52   53  Price  \n",
       "Date                                                  \n",
       "2018-02-04  0.0  0.0  0.0  0.0  0.0  0.0  1.0   1.63  \n",
       "2018-01-28  0.0  0.0  0.0  0.0  0.0  0.0  1.0   1.71  \n",
       "2018-01-21  0.0  0.0  0.0  0.0  0.0  0.0  1.0   1.87  \n",
       "2018-01-14  0.0  0.0  0.0  0.0  0.0  0.0  1.0   1.93  \n",
       "2018-01-07  0.0  0.0  0.0  0.0  0.0  0.0  1.0   1.62  \n",
       "\n",
       "[5 rows x 64 columns]"
      ]
     },
     "execution_count": 7,
     "metadata": {},
     "output_type": "execute_result"
    }
   ],
   "source": [
    "dff=dff.set_index('Date')\n",
    "dff.tail()"
   ]
  },
  {
   "cell_type": "markdown",
   "metadata": {},
   "source": [
    "Using the date column as index."
   ]
  },
  {
   "cell_type": "code",
   "execution_count": 8,
   "metadata": {},
   "outputs": [
    {
     "data": {
      "text/plain": [
       "<matplotlib.axes._subplots.AxesSubplot at 0x7fcf87e12d30>"
      ]
     },
     "execution_count": 8,
     "metadata": {},
     "output_type": "execute_result"
    },
    {
     "data": {
      "image/png": "[encoded data removed]",
      "text/plain": [
       "<Figure size 864x432 with 2 Axes>"
      ]
     },
     "metadata": {
      "needs_background": "light"
     },
     "output_type": "display_data"
    }
   ],
   "source": [
    "plt.figure(figsize=(12,6))\n",
    "sns.heatmap(df.corr(),cmap='coolwarm',annot=True)"
   ]
  },
  {
   "cell_type": "markdown",
   "metadata": {},
   "source": [
    "It seems like the quantities are highly correlated between each other, but not very much with the average price... This is not good since the variables should be independent. I should just keep one and drop the others, I will keep Total Volume."
   ]
  },
  {
   "cell_type": "code",
   "execution_count": 9,
   "metadata": {},
   "outputs": [],
   "source": [
    "df2 = dff.drop(dff.loc[:,'4046': 'XLarge Bags'], 1)"
   ]
  },
  {
   "cell_type": "code",
   "execution_count": 10,
   "metadata": {},
   "outputs": [
    {
     "name": "stderr",
     "output_type": "stream",
     "text": [
      "Using TensorFlow backend.\n"
     ]
    }
   ],
   "source": [
    "from keras.layers.core import Dense, Activation, Dropout\n",
    "from keras.layers.recurrent import LSTM\n",
    "from keras.models import Sequential"
   ]
  },
  {
   "cell_type": "code",
   "execution_count": 11,
   "metadata": {},
   "outputs": [],
   "source": [
    "def load_data(df, seq_len):\n",
    "    amount_of_features = len(df.columns) # 5\n",
    "    data = df.as_matrix() \n",
    "    sequence_length = seq_len + 1 # index starting from 0\n",
    "    result = []\n",
    "    \n",
    "    for index in range(len(data) - sequence_length): # maxmimum date = lastest date - sequence length\n",
    "        result.append(data[index: index + sequence_length]) # index : index + 22days\n",
    "    \n",
    "    result = np.array(result)\n",
    "    print(result.shape)\n",
    "    row = round(0.9 * result.shape[0]) # 90% split\n",
    "    print(\"row: \", row)\n",
    "    train = result[:int(row), :] # 90% date, all features \n",
    "    #print(train.shape)\n",
    "    \n",
    "    x_train = train[:, :-1] \n",
    "    y_train = train[:, -1][:,-1]\n",
    "    \n",
    "    x_test = result[int(row):, :-1] \n",
    "    y_test = result[int(row):, -1][:,-1]\n",
    "\n",
    "    x_train = np.reshape(x_train, (x_train.shape[0], x_train.shape[1], amount_of_features))\n",
    "    x_test = np.reshape(x_test, (x_test.shape[0], x_test.shape[1], amount_of_features))  \n",
    "\n",
    "    return [x_train, y_train, x_test, y_test]"
   ]
  },
  {
   "cell_type": "code",
   "execution_count": 12,
   "metadata": {},
   "outputs": [
    {
     "name": "stdout",
     "output_type": "stream",
     "text": [
      "(18238, 11, 57)\n",
      "row:  16414\n"
     ]
    },
    {
     "name": "stderr",
     "output_type": "stream",
     "text": [
      "/opt/conda/lib/python3.6/site-packages/ipykernel_launcher.py:3: FutureWarning: Method .as_matrix will be removed in a future version. Use .values instead.\n",
      "  This is separate from the ipykernel package so we can avoid doing imports until\n"
     ]
    }
   ],
   "source": [
    "window = 10\n",
    "X_train, y_train, X_test, y_test = load_data(df2, window)"
   ]
  },
  {
   "cell_type": "code",
   "execution_count": 13,
   "metadata": {},
   "outputs": [],
   "source": [
    "def build_model(layers):\n",
    "    d = 0.3\n",
    "    model = Sequential()\n",
    "    \n",
    "    model.add(LSTM(256, input_shape=(layers[1], layers[0]), return_sequences=True))\n",
    "    model.add(Dropout(d))\n",
    "        \n",
    "    model.add(LSTM(256, input_shape=(layers[1], layers[0]), return_sequences=False))\n",
    "    model.add(Dropout(d))\n",
    "        \n",
    "    model.add(Dense(32,kernel_initializer=\"uniform\",activation='relu'))        \n",
    "    model.add(Dense(1,kernel_initializer=\"uniform\",activation='linear'))\n",
    "    \n",
    "    # adam = keras.optimizers.Adam(decay=0.2)\n",
    "        \n",
    "    start = time.time()\n",
    "    model.compile(loss='mse',optimizer='adam', metrics=['accuracy'])\n",
    "    print(\"Compilation Time : \", time.time() - start)\n",
    "    return model"
   ]
  },
  {
   "cell_type": "code",
   "execution_count": 14,
   "metadata": {},
   "outputs": [
    {
     "name": "stdout",
     "output_type": "stream",
     "text": [
      "Compilation Time :  0.03185582160949707\n"
     ]
    }
   ],
   "source": [
    "model = build_model([57,window,1])"
   ]
  },
  {
   "cell_type": "code",
   "execution_count": 15,
   "metadata": {},
   "outputs": [
    {
     "name": "stdout",
     "output_type": "stream",
     "text": [
      "Train on 14772 samples, validate on 1642 samples\n",
      "Epoch 1/50\n",
      "14772/14772 [==============================] - 18s 1ms/step - loss: 0.2102 - acc: 0.0104 - val_loss: 0.1396 - val_acc: 0.0079\n",
      "Epoch 2/50\n",
      "14772/14772 [==============================] - 16s 1ms/step - loss: 0.0562 - acc: 0.0126 - val_loss: 0.1009 - val_acc: 0.0085\n",
      "Epoch 3/50\n",
      "14772/14772 [==============================] - 16s 1ms/step - loss: 0.0466 - acc: 0.0129 - val_loss: 0.0808 - val_acc: 0.0085\n",
      "Epoch 4/50\n",
      "14772/14772 [==============================] - 16s 1ms/step - loss: 0.0389 - acc: 0.0131 - val_loss: 0.0829 - val_acc: 0.0085\n",
      "Epoch 5/50\n",
      "14772/14772 [==============================] - 16s 1ms/step - loss: 0.0352 - acc: 0.0132 - val_loss: 0.0586 - val_acc: 0.0085\n",
      "Epoch 6/50\n",
      "14772/14772 [==============================] - 16s 1ms/step - loss: 0.0325 - acc: 0.0133 - val_loss: 0.0540 - val_acc: 0.0085\n",
      "Epoch 7/50\n",
      "14772/14772 [==============================] - 16s 1ms/step - loss: 0.0317 - acc: 0.0132 - val_loss: 0.0510 - val_acc: 0.0085\n",
      "Epoch 8/50\n",
      "14772/14772 [==============================] - 16s 1ms/step - loss: 0.0313 - acc: 0.0132 - val_loss: 0.0515 - val_acc: 0.0085\n",
      "Epoch 9/50\n",
      "14772/14772 [==============================] - 15s 1ms/step - loss: 0.0296 - acc: 0.0131 - val_loss: 0.0538 - val_acc: 0.0085\n",
      "Epoch 10/50\n",
      "14772/14772 [==============================] - 16s 1ms/step - loss: 0.0299 - acc: 0.0132 - val_loss: 0.0479 - val_acc: 0.0085\n",
      "Epoch 11/50\n",
      "14772/14772 [==============================] - 15s 1ms/step - loss: 0.0293 - acc: 0.0132 - val_loss: 0.0472 - val_acc: 0.0085\n",
      "Epoch 12/50\n",
      "14772/14772 [==============================] - 15s 1ms/step - loss: 0.0280 - acc: 0.0133 - val_loss: 0.0463 - val_acc: 0.0085\n",
      "Epoch 13/50\n",
      "14772/14772 [==============================] - 16s 1ms/step - loss: 0.0282 - acc: 0.0133 - val_loss: 0.0468 - val_acc: 0.0085\n",
      "Epoch 14/50\n",
      "14772/14772 [==============================] - 15s 1ms/step - loss: 0.0276 - acc: 0.0132 - val_loss: 0.0472 - val_acc: 0.0085\n",
      "Epoch 15/50\n",
      "14772/14772 [==============================] - 15s 1ms/step - loss: 0.0280 - acc: 0.0133 - val_loss: 0.0456 - val_acc: 0.0085\n",
      "Epoch 16/50\n",
      "14772/14772 [==============================] - 15s 1ms/step - loss: 0.0275 - acc: 0.0133 - val_loss: 0.0475 - val_acc: 0.0085\n",
      "Epoch 17/50\n",
      "14772/14772 [==============================] - 16s 1ms/step - loss: 0.0272 - acc: 0.0132 - val_loss: 0.0527 - val_acc: 0.0085\n",
      "Epoch 18/50\n",
      "14772/14772 [==============================] - 16s 1ms/step - loss: 0.0276 - acc: 0.0132 - val_loss: 0.0466 - val_acc: 0.0085\n",
      "Epoch 19/50\n",
      "14772/14772 [==============================] - 16s 1ms/step - loss: 0.0271 - acc: 0.0132 - val_loss: 0.0467 - val_acc: 0.0085\n",
      "Epoch 20/50\n",
      "14772/14772 [==============================] - 16s 1ms/step - loss: 0.0266 - acc: 0.0133 - val_loss: 0.0463 - val_acc: 0.0085\n",
      "Epoch 21/50\n",
      "14772/14772 [==============================] - 16s 1ms/step - loss: 0.0267 - acc: 0.0131 - val_loss: 0.0458 - val_acc: 0.0085\n",
      "Epoch 22/50\n",
      "14772/14772 [==============================] - 16s 1ms/step - loss: 0.0268 - acc: 0.0131 - val_loss: 0.0476 - val_acc: 0.0085\n",
      "Epoch 23/50\n",
      "14772/14772 [==============================] - 16s 1ms/step - loss: 0.0265 - acc: 0.0131 - val_loss: 0.0606 - val_acc: 0.0085\n",
      "Epoch 24/50\n",
      "14772/14772 [==============================] - 16s 1ms/step - loss: 0.0265 - acc: 0.0133 - val_loss: 0.0469 - val_acc: 0.0085\n",
      "Epoch 25/50\n",
      "14772/14772 [==============================] - 16s 1ms/step - loss: 0.0262 - acc: 0.0133 - val_loss: 0.0482 - val_acc: 0.0085\n",
      "Epoch 26/50\n",
      "14772/14772 [==============================] - 15s 1ms/step - loss: 0.0261 - acc: 0.0133 - val_loss: 0.0476 - val_acc: 0.0085\n",
      "Epoch 27/50\n",
      "14772/14772 [==============================] - 16s 1ms/step - loss: 0.0258 - acc: 0.0133 - val_loss: 0.0500 - val_acc: 0.0085\n",
      "Epoch 28/50\n",
      "14772/14772 [==============================] - 16s 1ms/step - loss: 0.0257 - acc: 0.0131 - val_loss: 0.0499 - val_acc: 0.0085\n",
      "Epoch 29/50\n",
      "14772/14772 [==============================] - 16s 1ms/step - loss: 0.0262 - acc: 0.0132 - val_loss: 0.0507 - val_acc: 0.0085\n",
      "Epoch 30/50\n",
      "14772/14772 [==============================] - 16s 1ms/step - loss: 0.0258 - acc: 0.0132 - val_loss: 0.0480 - val_acc: 0.0085\n",
      "Epoch 31/50\n",
      "14772/14772 [==============================] - 15s 1ms/step - loss: 0.0252 - acc: 0.0133 - val_loss: 0.0508 - val_acc: 0.0085\n",
      "Epoch 32/50\n",
      "14772/14772 [==============================] - 15s 1ms/step - loss: 0.0250 - acc: 0.0132 - val_loss: 0.0498 - val_acc: 0.0085\n",
      "Epoch 33/50\n",
      "14772/14772 [==============================] - 15s 1ms/step - loss: 0.0250 - acc: 0.0132 - val_loss: 0.0494 - val_acc: 0.0085\n",
      "Epoch 34/50\n",
      "14772/14772 [==============================] - 15s 1ms/step - loss: 0.0247 - acc: 0.0133 - val_loss: 0.0525 - val_acc: 0.0085\n",
      "Epoch 35/50\n",
      "14772/14772 [==============================] - 15s 1ms/step - loss: 0.0246 - acc: 0.0133 - val_loss: 0.0508 - val_acc: 0.0085\n",
      "Epoch 36/50\n",
      "14772/14772 [==============================] - 15s 1ms/step - loss: 0.0247 - acc: 0.0133 - val_loss: 0.0487 - val_acc: 0.0085\n",
      "Epoch 37/50\n",
      "14772/14772 [==============================] - 16s 1ms/step - loss: 0.0251 - acc: 0.0132 - val_loss: 0.0493 - val_acc: 0.0085\n",
      "Epoch 38/50\n",
      "14772/14772 [==============================] - 16s 1ms/step - loss: 0.0248 - acc: 0.0133 - val_loss: 0.0508 - val_acc: 0.0085\n",
      "Epoch 39/50\n",
      "14772/14772 [==============================] - 16s 1ms/step - loss: 0.0241 - acc: 0.0133 - val_loss: 0.0520 - val_acc: 0.0085\n",
      "Epoch 40/50\n",
      "14772/14772 [==============================] - 16s 1ms/step - loss: 0.0239 - acc: 0.0133 - val_loss: 0.0493 - val_acc: 0.0085\n",
      "Epoch 41/50\n",
      "14772/14772 [==============================] - 16s 1ms/step - loss: 0.0242 - acc: 0.0132 - val_loss: 0.0568 - val_acc: 0.0085\n",
      "Epoch 42/50\n",
      "14772/14772 [==============================] - 16s 1ms/step - loss: 0.0240 - acc: 0.0133 - val_loss: 0.0495 - val_acc: 0.0085\n",
      "Epoch 43/50\n",
      "14772/14772 [==============================] - 16s 1ms/step - loss: 0.0232 - acc: 0.0131 - val_loss: 0.0539 - val_acc: 0.0085\n",
      "Epoch 44/50\n",
      "14772/14772 [==============================] - 16s 1ms/step - loss: 0.0233 - acc: 0.0132 - val_loss: 0.0561 - val_acc: 0.0085\n",
      "Epoch 45/50\n",
      "14772/14772 [==============================] - 16s 1ms/step - loss: 0.0235 - acc: 0.0132 - val_loss: 0.0506 - val_acc: 0.0085\n",
      "Epoch 46/50\n",
      "14772/14772 [==============================] - 16s 1ms/step - loss: 0.0239 - acc: 0.0132 - val_loss: 0.0584 - val_acc: 0.0085\n",
      "Epoch 47/50\n",
      "14772/14772 [==============================] - 16s 1ms/step - loss: 0.0233 - acc: 0.0133 - val_loss: 0.0518 - val_acc: 0.0085\n",
      "Epoch 48/50\n",
      "14772/14772 [==============================] - 16s 1ms/step - loss: 0.0227 - acc: 0.0132 - val_loss: 0.0532 - val_acc: 0.0085\n",
      "Epoch 49/50\n",
      "14772/14772 [==============================] - 16s 1ms/step - loss: 0.0228 - acc: 0.0132 - val_loss: 0.0602 - val_acc: 0.0085\n",
      "Epoch 50/50\n",
      "14772/14772 [==============================] - 16s 1ms/step - loss: 0.0224 - acc: 0.0132 - val_loss: 0.0539 - val_acc: 0.0085\n"
     ]
    },
    {
     "data": {
      "text/plain": [
       "<keras.callbacks.History at 0x7fcf64b4ac88>"
      ]
     },
     "execution_count": 15,
     "metadata": {},
     "output_type": "execute_result"
    }
   ],
   "source": [
    "model.fit(X_train,y_train,batch_size=100,epochs=50,validation_split=0.1,verbose=1)"
   ]
  },
  {
   "cell_type": "code",
   "execution_count": 16,
   "metadata": {},
   "outputs": [
    {
     "name": "stdout",
     "output_type": "stream",
     "text": [
      "(1824, 1)\n",
      "[1.8049082]\n"
     ]
    }
   ],
   "source": [
    "diff=[]\n",
    "ratio=[]\n",
    "p = model.predict(X_test)\n",
    "print (p.shape)\n",
    "# for each data index in test data\n",
    "for u in range(len(y_test)):\n",
    "    # pr = prediction day u\n",
    "    pr = p[u][0]\n",
    "    # (y_test day u / pr) - 1\n",
    "    ratio.append((y_test[u]/pr)-1)\n",
    "    diff.append(abs(y_test[u]- pr))\n",
    "    # print(u, y_test[u], pr, (y_test[u]/pr)-1, abs(y_test[u]- pr))\n",
    "    # Last day prediction\n",
    "print(p[-1]) "
   ]
  },
  {
   "cell_type": "code",
   "execution_count": 17,
   "metadata": {},
   "outputs": [
    {
     "name": "stdout",
     "output_type": "stream",
     "text": [
      "Train Score: 0.02315 MSE (0.15 RMSE)\n",
      "Test Score: 0.04649 MSE (0.22 RMSE)\n"
     ]
    },
    {
     "data": {
      "text/plain": [
       "(0.023152701752093514, 0.046487493918424376)"
      ]
     },
     "execution_count": 17,
     "metadata": {},
     "output_type": "execute_result"
    }
   ],
   "source": [
    "def model_score(model, X_train, y_train, X_test, y_test):\n",
    "    trainScore = model.evaluate(X_train, y_train, verbose=0)\n",
    "    print('Train Score: %.5f MSE (%.2f RMSE)' % (trainScore[0], math.sqrt(trainScore[0])))\n",
    "\n",
    "    testScore = model.evaluate(X_test, y_test, verbose=0)\n",
    "    print('Test Score: %.5f MSE (%.2f RMSE)' % (testScore[0], math.sqrt(testScore[0])))\n",
    "    return trainScore[0], testScore[0]\n",
    "\n",
    "\n",
    "model_score(model, X_train, y_train, X_test, y_test)"
   ]
  },
  {
   "cell_type": "code",
   "execution_count": 18,
   "metadata": {},
   "outputs": [
    {
     "data": {
      "image/png": "[encoded data removed]",
      "text/plain": [
       "<Figure size 1008x432 with 1 Axes>"
      ]
     },
     "metadata": {
      "needs_background": "light"
     },
     "output_type": "display_data"
    }
   ],
   "source": [
    "import matplotlib.pyplot as plt2\n",
    "plt2.figure(figsize=(14,6))\n",
    "plt2.plot(p,color='red', label='Prediction')\n",
    "plt2.plot(y_test,color='blue', label='Actual')\n",
    "plt2.legend(loc='best')\n",
    "plt2.show()"
   ]
  },
  {
   "cell_type": "markdown",
   "metadata": {},
   "source": [
    "From the model score and the plot, it seems like the model is doing a pretty good job. But I'm not confident at all since I cannot justify all the parameters that I'm using (sequence length, batch size, units, number of layers, etc.)... I'm sure there is a lot of room for optimization, but I think (hope) that the overall structure of the model is right at least? "
   ]
  },
  {
   "cell_type": "markdown",
   "metadata": {},
   "source": [
    "### Now let's try predicting the price of a new/future date."
   ]
  },
  {
   "cell_type": "markdown",
   "metadata": {},
   "source": [
    "I will go through a series of clunky steps to get the user's input into the right shape for the model.\n",
    "I'm aware that I might be taking a lot of detours and unecessary steps here... would love to know if there's a better alternative."
   ]
  },
  {
   "cell_type": "code",
   "execution_count": 19,
   "metadata": {},
   "outputs": [],
   "source": [
    "regiondict = {}\n",
    "for key, value in enumerate(df.region.unique()):\n",
    "    regiondict[key] = value"
   ]
  },
  {
   "cell_type": "code",
   "execution_count": 20,
   "metadata": {},
   "outputs": [],
   "source": [
    "def OHE_region (region): #region is a string   \n",
    "    #get the region number as mapped in the dict\n",
    "    regionnum = list(regiondict.keys())[list(regiondict.values()).index(region)]   \n",
    "    #create regionnum columns of 0, concat one column of 1 at index regionnum, then concat 53-regionnum columns of 0.\n",
    "    before_df = pd.DataFrame(0.0, index=range(1), columns = list(range(regionnum)))\n",
    "    after_df = pd.DataFrame(0.0, index=range(1), columns = list(range(regionnum+1, 54)))\n",
    "    new_df = pd.DataFrame(1.0, index=range(1), columns = [str(regionnum)])\n",
    "    OHE_df = pd.concat([before_df, new_df, after_df], axis=1) \n",
    "    return OHE_df"
   ]
  },
  {
   "cell_type": "code",
   "execution_count": 21,
   "metadata": {},
   "outputs": [
    {
     "data": {
      "text/html": [
       "<div>\n",
       "<style scoped>\n",
       "    .dataframe tbody tr th:only-of-type {\n",
       "        vertical-align: middle;\n",
       "    }\n",
       "\n",
       "    .dataframe tbody tr th {\n",
       "        vertical-align: top;\n",
       "    }\n",
       "\n",
       "    .dataframe thead th {\n",
       "        text-align: right;\n",
       "    }\n",
       "</style>\n",
       "<table border=\"1\" class=\"dataframe\">\n",
       "  <thead>\n",
       "    <tr style=\"text-align: right;\">\n",
       "      <th></th>\n",
       "      <th>0</th>\n",
       "      <th>1</th>\n",
       "      <th>2</th>\n",
       "      <th>3</th>\n",
       "      <th>4</th>\n",
       "      <th>5</th>\n",
       "      <th>6</th>\n",
       "      <th>7</th>\n",
       "      <th>8</th>\n",
       "      <th>9</th>\n",
       "      <th>...</th>\n",
       "      <th>44</th>\n",
       "      <th>45</th>\n",
       "      <th>46</th>\n",
       "      <th>47</th>\n",
       "      <th>48</th>\n",
       "      <th>49</th>\n",
       "      <th>50</th>\n",
       "      <th>51</th>\n",
       "      <th>52</th>\n",
       "      <th>53</th>\n",
       "    </tr>\n",
       "  </thead>\n",
       "  <tbody>\n",
       "    <tr>\n",
       "      <th>0</th>\n",
       "      <td>0.0</td>\n",
       "      <td>0.0</td>\n",
       "      <td>0.0</td>\n",
       "      <td>0.0</td>\n",
       "      <td>0.0</td>\n",
       "      <td>0.0</td>\n",
       "      <td>0.0</td>\n",
       "      <td>0.0</td>\n",
       "      <td>0.0</td>\n",
       "      <td>0.0</td>\n",
       "      <td>...</td>\n",
       "      <td>0.0</td>\n",
       "      <td>0.0</td>\n",
       "      <td>0.0</td>\n",
       "      <td>0.0</td>\n",
       "      <td>0.0</td>\n",
       "      <td>0.0</td>\n",
       "      <td>1.0</td>\n",
       "      <td>0.0</td>\n",
       "      <td>0.0</td>\n",
       "      <td>0.0</td>\n",
       "    </tr>\n",
       "  </tbody>\n",
       "</table>\n",
       "<p>1 rows × 54 columns</p>\n",
       "</div>"
      ],
      "text/plain": [
       "     0    1    2    3    4    5    6    7    8    9 ...    44   45   46   47  \\\n",
       "0  0.0  0.0  0.0  0.0  0.0  0.0  0.0  0.0  0.0  0.0 ...   0.0  0.0  0.0  0.0   \n",
       "\n",
       "    48   49   50   51   52   53  \n",
       "0  0.0  0.0  1.0  0.0  0.0  0.0  \n",
       "\n",
       "[1 rows x 54 columns]"
      ]
     },
     "execution_count": 21,
     "metadata": {},
     "output_type": "execute_result"
    }
   ],
   "source": [
    "OHE_region('Tampa')"
   ]
  },
  {
   "cell_type": "code",
   "execution_count": 22,
   "metadata": {},
   "outputs": [
    {
     "name": "stdout",
     "output_type": "stream",
     "text": [
      "            Total Volume  type    0    1    2    3    4    5    6    7 ...   \\\n",
      "Date                                                                   ...    \n",
      "2019-08-12  8.391160e-17     0  0.0  0.0  0.0  0.0  0.0  0.0  0.0  0.0 ...    \n",
      "\n",
      "             44   45   46   47   48   49   50   51   52   53  \n",
      "Date                                                          \n",
      "2019-08-12  0.0  0.0  0.0  0.0  0.0  0.0  0.0  0.0  0.0  0.0  \n",
      "\n",
      "[1 rows x 56 columns]\n"
     ]
    }
   ],
   "source": [
    "X_dict = {'Date': '2019-08-12', 'Total Volume': dff['Total Volume'].mean(), 'type': 0}\n",
    "X_df = pd.DataFrame([X_dict])\n",
    "new_X = pd.DataFrame(X_df, columns=X_dict.keys()) #hacky/dumb way of making sure that the columns in the df maintain the same order as in the dict.\n",
    "encoded_region = OHE_region('Houston')\n",
    "new_X = pd.concat([new_X, encoded_region], axis=1)\n",
    "new_X=new_X.set_index('Date')\n",
    "print(new_X)"
   ]
  },
  {
   "cell_type": "code",
   "execution_count": 23,
   "metadata": {},
   "outputs": [],
   "source": [
    "#new_X=new_X.reshape(1,1,56)"
   ]
  },
  {
   "cell_type": "code",
   "execution_count": 24,
   "metadata": {},
   "outputs": [],
   "source": [
    "#model.predict(new_X)"
   ]
  },
  {
   "cell_type": "markdown",
   "metadata": {},
   "source": [
    "### stuck - TBC. "
   ]
  },
  {
   "cell_type": "code",
   "execution_count": null,
   "metadata": {},
   "outputs": [],
   "source": []
  }
 ],
 "metadata": {
  "kernelspec": {
   "display_name": "Python 3",
   "language": "python",
   "name": "python3"
  },
  "language_info": {
   "codemirror_mode": {
    "name": "ipython",
    "version": 3
   },
   "file_extension": ".py",
   "mimetype": "text/x-python",
   "name": "python",
   "nbconvert_exporter": "python",
   "pygments_lexer": "ipython3",
   "version": "3.6.6"
  }
 },
 "nbformat": 4,
 "nbformat_minor": 1
}
